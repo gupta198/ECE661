{
 "cells": [
  {
   "cell_type": "code",
   "execution_count": 5,
   "metadata": {},
   "outputs": [
    {
     "name": "stdout",
     "output_type": "stream",
     "text": [
      "[[ 9.80395596e-01 -1.27729851e-01  5.11000000e+02]\n",
      " [-5.24152025e-02  5.32473547e-01  2.99000000e+02]\n",
      " [ 3.84155172e-06 -1.33113495e-04  1.00000000e+00]]\n"
     ]
    },
    {
     "data": {
      "text/plain": [
       "True"
      ]
     },
     "execution_count": 5,
     "metadata": {},
     "output_type": "execute_result"
    }
   ],
   "source": [
    "import cv2\n",
    "import numpy as np\n",
    "\n",
    "#get the homography between two images\n",
    "def getHomography(im1Pts, im2Pts):\n",
    "    px = im1Pts[0, 1]\n",
    "    py = im1Pts[0, 0]\n",
    "    qx = im1Pts[1, 1]\n",
    "    qy = im1Pts[1, 0]\n",
    "    rx = im1Pts[2, 1]\n",
    "    ry = im1Pts[2, 0]\n",
    "    sx = im1Pts[3, 1]\n",
    "    sy = im1Pts[3, 0]\n",
    "    \n",
    "    pxp = im2Pts[0, 1]\n",
    "    pyp = im2Pts[0, 0]\n",
    "    qxp = im2Pts[1, 1]\n",
    "    qyp = im2Pts[1, 0]\n",
    "    rxp = im2Pts[2, 1]\n",
    "    ryp = im2Pts[2, 0]\n",
    "    sxp = im2Pts[3, 1]\n",
    "    syp = im2Pts[3, 0]\n",
    "    \n",
    "    t = np.array([[pxp],[pyp],[qxp],[qyp],[rxp],[ryp],[sxp],[syp]])\n",
    "    P = np.array([[px, py, 1, 0, 0, 0, -px*pxp, -py*pxp],\n",
    "                  [0, 0, 0, px, py, 1, -px*pyp, -py*pyp],\n",
    "                  [qx, qy, 1, 0, 0, 0, -qx*qxp, -qy*qxp],\n",
    "                  [0, 0, 0, qx, qy, 1, -qx*qyp, -qy*qyp],\n",
    "                  [rx, ry, 1, 0, 0, 0, -rx*rxp, -ry*rxp],\n",
    "                  [0, 0, 0, rx, ry, 1, -rx*ryp, -ry*ryp],\n",
    "                  [sx, sy, 1, 0, 0, 0, -sx*sxp, -sy*sxp],\n",
    "                  [0, 0, 0, sx, sy, 1, -sx*syp, -sy*syp]])\n",
    "    pInv = np.linalg.inv(P)\n",
    "    h = pInv.dot(t)\n",
    "    H = np.array([[h[0, 0], h[1, 0], h[2, 0]], [h[3, 0], h[4, 0], h[5, 0]], [h[6, 0], h[7, 0], 1]])\n",
    "    return H\n",
    "\n",
    "#get the resulting image by applying the homgraphy\n",
    "def newImage(srcIm, destIm, corners, H):\n",
    "    for row in range(srcIm.shape[0]):\n",
    "        for col in range(srcIm.shape[1]):\n",
    "            coord = np.matmul(H, [[row], [col], [1]])\n",
    "            coord /= coord[2, 0]\n",
    "            destIm[int(coord[0][0])][int(coord[1][0])] = srcIm[row][col]\n",
    "    return destIm\n",
    "\n",
    "catCorners = np.array([[0, 0], [0, 1125], [1920, 1125], [1920, 0]])\n",
    "im1Corners = np.array([[299, 511], [239, 1607], [1686, 1828], [1775, 357]])\n",
    "im2Corners = np.array([[341, 695], [333, 2330], [1884, 2003], [1887, 753]])\n",
    "im3Corners = np.array([[108, 440], [117, 1369], [1100, 1864], [1218, 303]])\n",
    "\n",
    "H1 = getHomography(catCorners, im1Corners)\n",
    "print(H1)\n",
    "H2 = getHomography(catCorners, im2Corners)\n",
    "H3 = getHomography(catCorners, im3Corners)\n",
    "\n",
    "im1 = cv2.imread('Task1_Images/painting1.jpeg')\n",
    "im2 = cv2.imread('Task1_Images/painting2.jpeg')\n",
    "im3 = cv2.imread('Task1_Images/painting3.jpeg')\n",
    "imCat = cv2.imread('Task1_Images/kittens.jpeg')\n",
    "\n",
    "im1New = newImage(imCat, im1, im1Corners, H1)\n",
    "cv2.imwrite('Task1_Results/Image1.jpeg', im1New)\n",
    "im2New = newImage(imCat, im2, im2Corners, H2)\n",
    "cv2.imwrite('Task1_Results/Image2.jpeg', im2New)\n",
    "im3New = newImage(imCat, im3, im3Corners, H3)\n",
    "cv2.imwrite('Task1_Results/Image3.jpeg', im3New)        "
   ]
  },
  {
   "cell_type": "code",
   "execution_count": null,
   "metadata": {},
   "outputs": [],
   "source": []
  },
  {
   "cell_type": "code",
   "execution_count": null,
   "metadata": {},
   "outputs": [],
   "source": []
  }
 ],
 "metadata": {
  "kernelspec": {
   "display_name": "Python 3",
   "language": "python",
   "name": "python3"
  },
  "language_info": {
   "codemirror_mode": {
    "name": "ipython",
    "version": 3
   },
   "file_extension": ".py",
   "mimetype": "text/x-python",
   "name": "python",
   "nbconvert_exporter": "python",
   "pygments_lexer": "ipython3",
   "version": "3.8.3"
  }
 },
 "nbformat": 4,
 "nbformat_minor": 4
}
