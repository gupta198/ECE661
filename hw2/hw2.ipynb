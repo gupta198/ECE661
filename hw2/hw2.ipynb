{
 "cells": [
  {
   "cell_type": "code",
   "execution_count": 27,
   "metadata": {},
   "outputs": [
    {
     "name": "stdout",
     "output_type": "stream",
     "text": [
      "[[-4.27586788e-01  1.60745822e-02  1.08000000e+02]\n",
      " [-8.58413733e-01  9.20257291e-01  4.40000000e+02]\n",
      " [-8.58412232e-04  6.90135232e-05  1.00000000e+00]]\n"
     ]
    }
   ],
   "source": [
    "import cv2\n",
    "import numpy as np\n",
    "\n",
    "#get the homography\n",
    "def getH(pxp, pyp, qxp, qyp, rxp, ryp, sxp, syp):\n",
    "    px = 0\n",
    "    py = 0\n",
    "    qx = 0\n",
    "    qy = 1125\n",
    "    rx = 1920\n",
    "    ry = 1125\n",
    "    sx = 1920\n",
    "    sy = 0\n",
    "    t = np.array([[pxp],[pyp],[qxp],[qyp],[rxp],[ryp],[sxp],[syp]])\n",
    "    P = np.array([[px, py, 1, 0, 0, 0, -px*pxp, -py*pxp],\n",
    "                  [0, 0, 0, px, py, 1, -px*pyp, -py*pyp],\n",
    "                  [qx, qy, 1, 0, 0, 0, -qx*qxp, -qy*qxp],\n",
    "                  [0, 0, 0, qx, qy, 1, -qx*qyp, -qy*qyp],\n",
    "                  [rx, ry, 1, 0, 0, 0, -rx*rxp, -ry*rxp],\n",
    "                  [0, 0, 0, rx, ry, 1, -rx*ryp, -ry*ryp],\n",
    "                  [sx, sy, 1, 0, 0, 0, -sx*sxp, -sy*sxp],\n",
    "                  [0, 0, 0, sx, sy, 1, -sx*syp, -sy*syp]])\n",
    "    pInv = np.linalg.inv(P)\n",
    "    h = pInv.dot(t)\n",
    "    H = np.array([[h[0, 0], h[1, 0], h[2, 0]], [h[3, 0], h[4, 0], h[5, 0]], [h[6, 0], h[7, 0], 1]])\n",
    "    return H\n",
    "\n",
    "H1 = getH(299, 511, 239, 1607, 1686, 1828, 1775, 357)\n",
    "H2 = getH(341, 695, 333, 2330, 1884, 2003, 1887, 753)\n",
    "H3 = getH(108, 440, 117, 1369, 1218, 303, 1100, 1864)\n"
   ]
  },
  {
   "cell_type": "code",
   "execution_count": null,
   "metadata": {},
   "outputs": [],
   "source": []
  }
 ],
 "metadata": {
  "kernelspec": {
   "display_name": "Python 3",
   "language": "python",
   "name": "python3"
  },
  "language_info": {
   "codemirror_mode": {
    "name": "ipython",
    "version": 3
   },
   "file_extension": ".py",
   "mimetype": "text/x-python",
   "name": "python",
   "nbconvert_exporter": "python",
   "pygments_lexer": "ipython3",
   "version": "3.8.3"
  }
 },
 "nbformat": 4,
 "nbformat_minor": 4
}
