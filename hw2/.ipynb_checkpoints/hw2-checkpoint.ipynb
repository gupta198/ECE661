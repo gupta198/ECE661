{
 "cells": [
  {
   "cell_type": "code",
   "execution_count": 12,
   "metadata": {},
   "outputs": [],
   "source": [
    "import cv2\n",
    "import numpy as np\n",
    "\n",
    "def getH(pxp, pyp, qxp, qyp, rxp, ryp, sxp, syp):\n",
    "    px = 0\n",
    "    py = 0\n",
    "    qx = 0\n",
    "    qy = 1125\n",
    "    rx = 1920\n",
    "    ry = 1125\n",
    "    sx = 1920\n",
    "    sy = 0\n",
    "    t = np.array([[pxp],[pyp],[qxp],[qyp],[rxp],[ryp],[sxp],[syp]])\n",
    "    P = np.array([[px, py, 1, 0, 0, 0, -px*pxp, -py*pxp],\n",
    "                  [0, 0, 0, px, py, 1, -px*pyp, -py*pyp],\n",
    "                  [qx, qy, 1, 0, 0, 0, -qx*qxp, -qy*qxp],\n",
    "                  [0, 0, 0, qx, qy, 1, -qx*qyp, -qy*qyp],\n",
    "                  [rx, ry, 1, 0, 0, 0, -rx*rxp, -ry*rxp],\n",
    "                  [0, 0, 0, rx, ry, 1, -rx*ryp, -ry*ryp],\n",
    "                  [sx, sy, 1, 0, 0, 0, -sx*sxp, -sy*sxp],\n",
    "                  [0, 0, 0, sx, sy, 1, -sx*syp, -sy*syp]])\n",
    "    \n",
    "\n",
    "#Calculate the homography for painting 1\n",
    "\n",
    "\n",
    "img = cv2.imread('Task1_Images/painting1.jpeg')\n",
    "img = cv2.resize(img, (960, 540))\n",
    "cv2.imshow('Painting1', img)\n",
    "cv2.waitKey(0)\n",
    "cv2.destroyAllWindows()"
   ]
  },
  {
   "cell_type": "code",
   "execution_count": null,
   "metadata": {},
   "outputs": [],
   "source": []
  }
 ],
 "metadata": {
  "kernelspec": {
   "display_name": "Python 3",
   "language": "python",
   "name": "python3"
  },
  "language_info": {
   "codemirror_mode": {
    "name": "ipython",
    "version": 3
   },
   "file_extension": ".py",
   "mimetype": "text/x-python",
   "name": "python",
   "nbconvert_exporter": "python",
   "pygments_lexer": "ipython3",
   "version": "3.8.3"
  }
 },
 "nbformat": 4,
 "nbformat_minor": 4
}
