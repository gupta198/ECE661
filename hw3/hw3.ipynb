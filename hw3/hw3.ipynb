{
 "cells": [
  {
   "cell_type": "code",
   "execution_count": 47,
   "metadata": {},
   "outputs": [
    {
     "data": {
      "text/plain": [
       "'im2 = cv2.imread(\"hw3_Task1_Images/Images/Own2.jpg\")\\ndest2Corners = np.array([[0,0], [188, 0], [0, 106], [188,106]])\\nim2Corners = np.array([[625, 521], [3851, 52], [625, 2418], [3852, 2869]])\\nH2 = getHomography(im2Corners,dest2Corners)\\ncv2.imwrite(\\'Results/Pt2Pt5.jpg\\', applyHomography(im2, H2))'"
      ]
     },
     "execution_count": 47,
     "metadata": {},
     "output_type": "execute_result"
    }
   ],
   "source": [
    "import numpy as np\n",
    "import cv2\n",
    "                    \n",
    "def applyHomography(img, H):\n",
    "    dIm = np.array([[0,0,img.shape[0],img.shape[0]],[0, img.shape[1], 0, img.shape[1]], [1, 1, 1, 1]])\n",
    "    dImNew = np.matmul(H, dIm)\n",
    "    dImNew[0] = dImNew[0]/dImNew[2]\n",
    "    dImNew[1] = dImNew[1]/dImNew[2]\n",
    "\n",
    "    minH = int(np.amin(dImNew[0]))\n",
    "    maxH = int(np.amax(dImNew[0]))\n",
    "    minW = int(np.amin(dImNew[1]))\n",
    "    maxW = int(np.amax(dImNew[1]))\n",
    "    imNew = np.zeros((maxH - minH, maxW - minW,3))\n",
    "    invH = np.linalg.inv(H)\n",
    "   \n",
    "    for row in range(imNew.shape[0]):\n",
    "        for col in range(imNew.shape[1]):\n",
    "            coord = np.matmul(invH,[[row + minH], [col + minW], [1]])\n",
    "            coord /= coord[2]\n",
    "            if coord[0]<img.shape[0] and coord[0]>=0 and coord[1]<img.shape[1] and coord[1]>=0:\n",
    "                imNew[row][col] = img[int(coord[0])][int(coord[1])] \n",
    "                \n",
    "    return imNew\n",
    "\n",
    "def getHomography(im1Pts, im2Pts):\n",
    "    px = im1Pts[0, 1]\n",
    "    py = im1Pts[0, 0]\n",
    "    qx = im1Pts[1, 1]\n",
    "    qy = im1Pts[1, 0]\n",
    "    rx = im1Pts[2, 1]\n",
    "    ry = im1Pts[2, 0]\n",
    "    sx = im1Pts[3, 1]\n",
    "    sy = im1Pts[3, 0]\n",
    "    \n",
    "    pxp = im2Pts[0, 1]\n",
    "    pyp = im2Pts[0, 0]\n",
    "    qxp = im2Pts[1, 1]\n",
    "    qyp = im2Pts[1, 0]\n",
    "    rxp = im2Pts[2, 1]\n",
    "    ryp = im2Pts[2, 0]\n",
    "    sxp = im2Pts[3, 1]\n",
    "    syp = im2Pts[3, 0]\n",
    "    \n",
    "    t = np.array([[pxp],[pyp],[qxp],[qyp],[rxp],[ryp],[sxp],[syp]])\n",
    "    P = np.array([[px, py, 1, 0, 0, 0, -px*pxp, -py*pxp],\n",
    "                  [0, 0, 0, px, py, 1, -px*pyp, -py*pyp],\n",
    "                  [qx, qy, 1, 0, 0, 0, -qx*qxp, -qy*qxp],\n",
    "                  [0, 0, 0, qx, qy, 1, -qx*qyp, -qy*qyp],\n",
    "                  [rx, ry, 1, 0, 0, 0, -rx*rxp, -ry*rxp],\n",
    "                  [0, 0, 0, rx, ry, 1, -rx*ryp, -ry*ryp],\n",
    "                  [sx, sy, 1, 0, 0, 0, -sx*sxp, -sy*sxp],\n",
    "                  [0, 0, 0, sx, sy, 1, -sx*syp, -sy*syp]])\n",
    "    pInv = np.linalg.inv(P)\n",
    "    h = pInv.dot(t)\n",
    "    H = np.array([[h[0, 0], h[1, 0], h[2, 0]], [h[3, 0], h[4, 0], h[5, 0]], [h[6, 0], h[7, 0], 1]])\n",
    "    return H\n",
    "\n",
    "\"\"\"im1 = cv2.imread(\"hw3_Task1_Images/Images/Img1.JPG\")\n",
    "dest1Corners = np.array([[0,0], [75, 0], [0,85], [75,85]])\n",
    "im1Corners = np.array([[644, 500], [663, 503], [643, 531], [663, 535]])\n",
    "H1 = getHomography(im1Corners,dest1Corners)\n",
    "cv2.imwrite('Results/Pt2Pt1.jpg', applyHomography(im1, H1))\n",
    "\n",
    "im2 = cv2.imread(\"hw3_Task1_Images/Images/Img2.jpeg\")\n",
    "dest2Corners = np.array([[0,0], [84, 0], [0,74], [84,74]])\n",
    "im2Corners = np.array([[383, 577], [593, 552], [381, 834], [607, 922]])\n",
    "H2 = getHomography(im2Corners,dest2Corners)\n",
    "cv2.imwrite('Results/Pt2Pt2.jpg', applyHomography(im2, H2))\n",
    "\n",
    "im3 = cv2.imread(\"hw3_Task1_Images/Images/Img3.JPG\")\n",
    "dest3Corners = np.array([[0,0], [55, 0], [0,36], [55,36]])\n",
    "im3Corners = np.array([[2063, 700], [2665, 718], [2097, 1479], [2695, 1334]])\n",
    "H3 = getHomography(im3Corners,dest3Corners)\n",
    "cv2.imwrite('Results/Pt2Pt3.jpg', applyHomography(im3, H3))\"\"\"\n",
    "\n",
    "im1 = cv2.imread(\"hw3_Task1_Images/Images/Own1.jpg\")\n",
    "dest1Corners = np.array([[0, 0], [220*2, 0], [0,280*2], [220*2,280*2]])\n",
    "im1Corners = np.array([[234, 199], [626, 233], [256, 813], [647, 739]])\n",
    "H1 = getHomography(im1Corners,dest1Corners)\n",
    "cv2.imwrite('Results/Pt2Pt4.jpg', applyHomography(im1, H1))\n",
    "\n",
    "\"\"\"im2 = cv2.imread(\"hw3_Task1_Images/Images/Own2.jpg\")\n",
    "dest2Corners = np.array([[0,0], [188, 0], [0, 106], [188,106]])\n",
    "im2Corners = np.array([[625, 521], [3851, 52], [625, 2418], [3852, 2869]])\n",
    "H2 = getHomography(im2Corners,dest2Corners)\n",
    "cv2.imwrite('Results/Pt2Pt5.jpg', applyHomography(im2, H2))\"\"\""
   ]
  },
  {
   "cell_type": "code",
   "execution_count": null,
   "metadata": {},
   "outputs": [],
   "source": []
  }
 ],
 "metadata": {
  "kernelspec": {
   "display_name": "Python 3",
   "language": "python",
   "name": "python3"
  },
  "language_info": {
   "codemirror_mode": {
    "name": "ipython",
    "version": 3
   },
   "file_extension": ".py",
   "mimetype": "text/x-python",
   "name": "python",
   "nbconvert_exporter": "python",
   "pygments_lexer": "ipython3",
   "version": "3.8.3"
  }
 },
 "nbformat": 4,
 "nbformat_minor": 4
}
