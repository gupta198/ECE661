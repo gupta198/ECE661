{
 "cells": [
  {
   "cell_type": "code",
   "execution_count": 1,
   "metadata": {},
   "outputs": [],
   "source": [
    "import numpy as np\n",
    "import cv2\n",
    "import matplotlib.pyplot as plt"
   ]
  },
  {
   "cell_type": "code",
   "execution_count": 113,
   "metadata": {},
   "outputs": [],
   "source": [
    "def otsu(im):\n",
    "    hist, edges = np.histogram(im.flatten(), bins = 256, range=(0, 256)) #magic\n",
    "    \n",
    "    numBack = 0; backSum = 0\n",
    "    N = im.shape[0] * im.shape[1]\n",
    "    total = sum(hist * edges[:-1])\n",
    "    maximum = 0\n",
    "    \n",
    "    for i in range(len(hist)):\n",
    "        numBack += hist[i]\n",
    "        numFore = N - numBack\n",
    "        if numBack > 0 and numFore > 0:\n",
    "            backSum += i*hist[i]\n",
    "            foreSum = total - backSum\n",
    "            t = numBack * numFore * (backSum/numBack - foreSum/numFore)**2\n",
    "            if t >= maximum:\n",
    "                threshold = i\n",
    "                maximum = t\n",
    "    return threshold\n",
    "    \n",
    "def rgbSeg(im):\n",
    "    threshold = otsu(im)\n",
    "    mask1 = np.zeros(im.shape)\n",
    "    mask2 = np.zeros(im.shape)\n",
    "    for i in range(im.shape[0]):\n",
    "        for j in range(im.shape[1]):\n",
    "            if im[i][j] > threshold:\n",
    "                mask1[i][j] = 255\n",
    "            else:\n",
    "                mask2[i][j] = 255\n",
    "    \n",
    "    return [mask1, mask2]\n",
    "        "
   ]
  },
  {
   "cell_type": "code",
   "execution_count": 158,
   "metadata": {},
   "outputs": [],
   "source": [
    "def texture(im, N):\n",
    "    var = np.zeros(im.shape)\n",
    "    for i in range(im.shape[0]):\n",
    "        for j in range(im.shape[1]):\n",
    "            window = im[max(0, i - N/2) : min(im.shape[0], i + N/2 + 1)][max(0, j - N/2): min(im.shape[1], j + N/2 + 1)]\n",
    "            var[i, j] = np.var(window)\n",
    "    return np.uint8(var)"
   ]
  },
  {
   "cell_type": "code",
   "execution_count": null,
   "metadata": {},
   "outputs": [],
   "source": [
    "def contour(im):\n",
    "    mask = np.zeros(im.shape)\n",
    "    for i in range(im.shape[0]):\n",
    "        for j in range(im.shape[1]):\n",
    "            if im[i,j] > 0:\n",
    "                mask[i,j] = 255\n",
    "    return mask"
   ]
  },
  {
   "cell_type": "code",
   "execution_count": 114,
   "metadata": {},
   "outputs": [
    {
     "data": {
      "text/plain": [
       "True"
      ]
     },
     "execution_count": 114,
     "metadata": {},
     "output_type": "execute_result"
    }
   ],
   "source": [
    "im = cv2.imread(\"Images/cat.jpg\")\n",
    "imBlue = im[:,:,0]\n",
    "imGreen = im[:,:,1]\n",
    "imRed = im[:,:,2]\n",
    "otsuRed1, otsuRed2 = rgbSeg(imRed)\n",
    "otsuGreen1, otsuGreen2 = rgbSeg(imGreen)\n",
    "otsuBlue1, otsuBlue2 = rgbSeg(imBlue)\n",
    "rgb = otsuRed1 * otsuGreen2 * otsuBlue2\n",
    "cv2.imwrite(\"Results/catRGB.jpg\", rgb)"
   ]
  },
  {
   "cell_type": "code",
   "execution_count": 109,
   "metadata": {},
   "outputs": [
    {
     "data": {
      "text/plain": [
       "True"
      ]
     },
     "execution_count": 109,
     "metadata": {},
     "output_type": "execute_result"
    }
   ],
   "source": [
    "im = cv2.imread(\"Images/pigeon.jpeg\")\n",
    "imBlue = im[:,:,0]\n",
    "imGreen = im[:,:,1]\n",
    "imRed = im[:,:,2]\n",
    "otsuRed1, otsuRed2 = rgbSeg(imRed)\n",
    "otsuGreen1, otsuGreen2 = rgbSeg(imGreen)\n",
    "otsuBlue1, otsuBlue2 = rgbSeg(imBlue)\n",
    "rgb = otsuRed1 * otsuGreen1 * otsuBlue1\n",
    "cv2.imwrite(\"Results/pigeonRGB.jpg\", rgb)"
   ]
  },
  {
   "cell_type": "code",
   "execution_count": 110,
   "metadata": {},
   "outputs": [
    {
     "data": {
      "text/plain": [
       "True"
      ]
     },
     "execution_count": 110,
     "metadata": {},
     "output_type": "execute_result"
    }
   ],
   "source": [
    "im = cv2.imread(\"Images/Red-Fox_.jpg\")\n",
    "imBlue = im[:,:,0]\n",
    "imGreen = im[:,:,1]\n",
    "imRed = im[:,:,2]\n",
    "otsuRed1, otsuRed2 = rgbSeg(imRed)\n",
    "otsuGreen1, otsuGreen2 = rgbSeg(imGreen)\n",
    "otsuBlue1, otsuBlue2 = rgbSeg(imBlue)\n",
    "rgb = otsuRed1 * otsuGreen2 * otsuBlue1\n",
    "cv2.imwrite(\"Results/foxRGB.jpg\", rgb)"
   ]
  },
  {
   "cell_type": "code",
   "execution_count": 168,
   "metadata": {},
   "outputs": [
    {
     "data": {
      "text/plain": [
       "True"
      ]
     },
     "execution_count": 168,
     "metadata": {},
     "output_type": "execute_result"
    }
   ],
   "source": [
    "im = cv2.imread(\"Images/cat.jpg\")\n",
    "imGray = cv2.cvtColor(im, cv2.COLOR_BGR2GRAY)\n",
    "var = texture(imGray, 3)\n",
    "mask13, mask23 = rgbSeg(var)\n",
    "var = texture(imGray, 5)\n",
    "mask15, mask25 = rgbSeg(var)\n",
    "var = texture(imGray, 7)\n",
    "mask17, mask27 = rgbSeg(var)\n",
    "tot = mask13 * mask15 * mask17\n",
    "cv2.imwrite(\"Results/catText.jpg\", tot)"
   ]
  },
  {
   "cell_type": "code",
   "execution_count": 169,
   "metadata": {},
   "outputs": [
    {
     "data": {
      "text/plain": [
       "True"
      ]
     },
     "execution_count": 169,
     "metadata": {},
     "output_type": "execute_result"
    }
   ],
   "source": [
    "im = cv2.imread(\"Images/pigeon.jpeg\")\n",
    "imGray = cv2.cvtColor(im, cv2.COLOR_BGR2GRAY)\n",
    "var = texture(imGray, 3)\n",
    "mask13, mask23 = rgbSeg(var)\n",
    "var = texture(imGray, 5)\n",
    "mask15, mask25 = rgbSeg(var)\n",
    "var = texture(imGray, 7)\n",
    "mask17, mask27 = rgbSeg(var)\n",
    "tot = mask13 * mask15 * mask17\n",
    "cv2.imwrite(\"Results/pigeonText.jpeg\", tot)"
   ]
  },
  {
   "cell_type": "code",
   "execution_count": null,
   "metadata": {},
   "outputs": [],
   "source": [
    "im = cv2.imread(\"Images/Red-Fox_.jpg\")\n",
    "imGray = cv2.cvtColor(im, cv2.COLOR_BGR2GRAY)\n",
    "var = texture(imGray, 3)\n",
    "mask13, mask23 = rgbSeg(var)\n",
    "var = texture(imGray, 5)\n",
    "mask15, mask25 = rgbSeg(var)\n",
    "var = texture(imGray, 7)\n",
    "mask17, mask27 = rgbSeg(var)\n",
    "tot = mask13 * mask15 * mask17\n",
    "cv2.imwrite(\"Results/foxText.jpg\", tot)"
   ]
  }
 ],
 "metadata": {
  "kernelspec": {
   "display_name": "Python 3",
   "language": "python",
   "name": "python3"
  },
  "language_info": {
   "codemirror_mode": {
    "name": "ipython",
    "version": 3
   },
   "file_extension": ".py",
   "mimetype": "text/x-python",
   "name": "python",
   "nbconvert_exporter": "python",
   "pygments_lexer": "ipython3",
   "version": "3.8.3"
  }
 },
 "nbformat": 4,
 "nbformat_minor": 4
}
