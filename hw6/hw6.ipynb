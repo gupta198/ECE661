{
 "cells": [
  {
   "cell_type": "code",
   "execution_count": 1,
   "metadata": {},
   "outputs": [],
   "source": [
    "import numpy as np\n",
    "import cv2\n",
    "import matplotlib.pyplot as plt"
   ]
  },
  {
   "cell_type": "code",
   "execution_count": 43,
   "metadata": {},
   "outputs": [],
   "source": [
    "def otsu(im):\n",
    "    hist, edges = np.histogram(im.flatten(), bins = 256, range=(0, 256)) #magic\n",
    "    \n",
    "    numBack = 0; backSum = 0\n",
    "    N = im.shape[0] * im.shape[1]\n",
    "    total = sum(hist * edges[:-1])\n",
    "    maximum = 0\n",
    "    \n",
    "    for i in range(len(hist)):\n",
    "        numBack += hist[i]\n",
    "        numFore = N - numBack\n",
    "        if numBack > 0 and numFore > 0:\n",
    "            backSum += i*hist[i]\n",
    "            foreSum = total - backSum\n",
    "            t = numBack * numFore * (backSum/numBack - foreSum/numFore)**2\n",
    "            if t >= maximum:\n",
    "                threshold = i\n",
    "                maximum = t\n",
    "    \n",
    "    #mask = np.zeros(im.shape)\n",
    "    return threshold\n",
    "        "
   ]
  },
  {
   "cell_type": "code",
   "execution_count": 47,
   "metadata": {},
   "outputs": [
    {
     "name": "stdout",
     "output_type": "stream",
     "text": [
      "210\n"
     ]
    }
   ],
   "source": [
    "im = cv2.imread(\"Images/cat.jpg\")\n",
    "imBlue = im[:,:,0]\n",
    "imGreen = im[:,:,1]\n",
    "imRed = im[:,:,2]\n",
    "otsuThresh = otsu(imRed)\n",
    "print(otsuThresh)\n",
    "mask = np.zeros(im.shape)"
   ]
  },
  {
   "cell_type": "code",
   "execution_count": null,
   "metadata": {},
   "outputs": [],
   "source": []
  }
 ],
 "metadata": {
  "kernelspec": {
   "display_name": "Python 3",
   "language": "python",
   "name": "python3"
  },
  "language_info": {
   "codemirror_mode": {
    "name": "ipython",
    "version": 3
   },
   "file_extension": ".py",
   "mimetype": "text/x-python",
   "name": "python",
   "nbconvert_exporter": "python",
   "pygments_lexer": "ipython3",
   "version": "3.8.3"
  }
 },
 "nbformat": 4,
 "nbformat_minor": 4
}
