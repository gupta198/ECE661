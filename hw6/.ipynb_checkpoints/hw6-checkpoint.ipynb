{
 "cells": [
  {
   "cell_type": "code",
   "execution_count": 1,
   "metadata": {},
   "outputs": [],
   "source": [
    "import numpy as np\n",
    "import cv2\n",
    "import matplotlib.pyplot as plt"
   ]
  },
  {
   "cell_type": "code",
   "execution_count": 113,
   "metadata": {},
   "outputs": [],
   "source": [
    "def otsu(im):\n",
    "    hist, edges = np.histogram(im.flatten(), bins = 256, range=(0, 256)) #magic\n",
    "    \n",
    "    numBack = 0; backSum = 0\n",
    "    N = im.shape[0] * im.shape[1]\n",
    "    total = sum(hist * edges[:-1])\n",
    "    maximum = 0\n",
    "    \n",
    "    for i in range(len(hist)):\n",
    "        numBack += hist[i]\n",
    "        numFore = N - numBack\n",
    "        if numBack > 0 and numFore > 0:\n",
    "            backSum += i*hist[i]\n",
    "            foreSum = total - backSum\n",
    "            t = numBack * numFore * (backSum/numBack - foreSum/numFore)**2\n",
    "            if t >= maximum:\n",
    "                threshold = i\n",
    "                maximum = t\n",
    "    return threshold\n",
    "    \n",
    "def rgbSeg(im):\n",
    "    threshold = otsu(im)\n",
    "    mask1 = np.zeros(im.shape)\n",
    "    mask2 = np.zeros(im.shape)\n",
    "    for i in range(im.shape[0]):\n",
    "        for j in range(im.shape[1]):\n",
    "            if im[i][j] > threshold:\n",
    "                mask1[i][j] = 255\n",
    "            else:\n",
    "                mask2[i][j] = 255\n",
    "    \n",
    "    return [mask1, mask2]\n",
    "        "
   ]
  },
  {
   "cell_type": "code",
   "execution_count": 114,
   "metadata": {},
   "outputs": [
    {
     "data": {
      "text/plain": [
       "True"
      ]
     },
     "execution_count": 114,
     "metadata": {},
     "output_type": "execute_result"
    }
   ],
   "source": [
    "im = cv2.imread(\"Images/cat.jpg\")\n",
    "imBlue = im[:,:,0]\n",
    "imGreen = im[:,:,1]\n",
    "imRed = im[:,:,2]\n",
    "otsuRed1, otsuRed2 = rgbSeg(imRed)\n",
    "otsuGreen1, otsuGreen2 = rgbSeg(imGreen)\n",
    "otsuBlue1, otsuBlue2 = rgbSeg(imBlue)\n",
    "rgb = otsuRed1 * otsuGreen2 * otsuBlue2\n",
    "cv2.imwrite(\"Results/catRGB.jpg\", rgb)"
   ]
  },
  {
   "cell_type": "code",
   "execution_count": 109,
   "metadata": {},
   "outputs": [
    {
     "data": {
      "text/plain": [
       "True"
      ]
     },
     "execution_count": 109,
     "metadata": {},
     "output_type": "execute_result"
    }
   ],
   "source": [
    "im = cv2.imread(\"Images/pigeon.jpeg\")\n",
    "imBlue = im[:,:,0]\n",
    "imGreen = im[:,:,1]\n",
    "imRed = im[:,:,2]\n",
    "otsuRed1, otsuRed2 = rgbSeg(imRed)\n",
    "otsuGreen1, otsuGreen2 = rgbSeg(imGreen)\n",
    "otsuBlue1, otsuBlue2 = rgbSeg(imBlue)\n",
    "rgb = otsuRed1 * otsuGreen1 * otsuBlue1\n",
    "cv2.imwrite(\"Results/pigeonRGB.jpg\", rgb)"
   ]
  },
  {
   "cell_type": "code",
   "execution_count": 110,
   "metadata": {},
   "outputs": [
    {
     "data": {
      "text/plain": [
       "True"
      ]
     },
     "execution_count": 110,
     "metadata": {},
     "output_type": "execute_result"
    }
   ],
   "source": [
    "im = cv2.imread(\"Images/Red-Fox_.jpg\")\n",
    "imBlue = im[:,:,0]\n",
    "imGreen = im[:,:,1]\n",
    "imRed = im[:,:,2]\n",
    "otsuRed1, otsuRed2 = rgbSeg(imRed)\n",
    "otsuGreen1, otsuGreen2 = rgbSeg(imGreen)\n",
    "otsuBlue1, otsuBlue2 = rgbSeg(imBlue)\n",
    "rgb = otsuRed1 * otsuGreen2 * otsuBlue1\n",
    "cv2.imwrite(\"Results/foxRGB.jpg\", rgb)"
   ]
  },
  {
   "cell_type": "code",
   "execution_count": 146,
   "metadata": {},
   "outputs": [],
   "source": [
    "def texture(im, N):\n",
    "    var = np.zeros(im.shape)\n",
    "    half = int((N -1) / 2)\n",
    "    for i in range(im.shape[0]):\n",
    "        for j in range(im.shape[1]):\n",
    "            window = im[max(0, i - half) : min(im.shape[0], i + half + 1)][max(0, j - half): min(im.shape[1], j + half + 1)]\n",
    "            var[i, j] = np.var(window)\n",
    "    #var = np.round(255 * (var - min(var)) / max(var))\n",
    "    return np.int(var)"
   ]
  },
  {
   "cell_type": "code",
   "execution_count": 147,
   "metadata": {},
   "outputs": [],
   "source": [
    "im = cv2.imread(\"Images/pigeon.jpeg\")\n",
    "imGray = cv2.cvtColor(im, cv2.COLOR_BGR2GRAY)\n",
    "mask = np.zeros(im.shape)\n",
    "var = texture(imGray, 3)"
   ]
  },
  {
   "cell_type": "code",
   "execution_count": 148,
   "metadata": {},
   "outputs": [
    {
     "name": "stdout",
     "output_type": "stream",
     "text": [
      "[[ 807.25511625  807.25511625  910.96033393 ...           nan\n",
      "            nan           nan]\n",
      " [ 807.25511625 1006.60737931 1152.06423594 ...           nan\n",
      "            nan           nan]\n",
      " [1152.06423594 1287.97587213 1463.21695345 ...           nan\n",
      "            nan           nan]\n",
      " ...\n",
      " [ 183.48214648  190.31874577  195.60585763 ...           nan\n",
      "            nan           nan]\n",
      " [ 195.60585763  209.73333817  220.85006122 ...           nan\n",
      "            nan           nan]\n",
      " [ 220.85006122  220.85006122  237.83257229 ...           nan\n",
      "            nan           nan]]\n"
     ]
    }
   ],
   "source": [
    "print(var)"
   ]
  },
  {
   "cell_type": "code",
   "execution_count": null,
   "metadata": {},
   "outputs": [],
   "source": []
  }
 ],
 "metadata": {
  "kernelspec": {
   "display_name": "Python 3",
   "language": "python",
   "name": "python3"
  },
  "language_info": {
   "codemirror_mode": {
    "name": "ipython",
    "version": 3
   },
   "file_extension": ".py",
   "mimetype": "text/x-python",
   "name": "python",
   "nbconvert_exporter": "python",
   "pygments_lexer": "ipython3",
   "version": "3.8.3"
  }
 },
 "nbformat": 4,
 "nbformat_minor": 4
}
